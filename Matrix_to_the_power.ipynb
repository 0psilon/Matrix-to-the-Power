{
 "cells": [
  {
   "cell_type": "code",
   "execution_count": 6,
   "id": "22b2987e",
   "metadata": {
    "scrolled": true
   },
   "outputs": [
    {
     "name": "stdout",
     "output_type": "stream",
     "text": [
      "3\n",
      "1 2 3\n",
      "4 5 6\n",
      "7 8 9\n",
      "2\n",
      "\n",
      "30 36 42\n",
      "66 81 96\n",
      "102 126 150\n"
     ]
    }
   ],
   "source": [
    "n = int(input()) #matrix dimension\n",
    "matrix = [[int(i) for i in input().split()] for _ in range(n)] #matrix initialization\n",
    "power = int(input()) - 1 #exponent\n",
    "result = [[0] * n for _ in range(n)]\n",
    "base = matrix.copy()\n",
    "print()\n",
    "\n",
    "while power > 0: #calculation\n",
    "    for i in range(n):\n",
    "        for v in range(n):\n",
    "            for j in range(n):\n",
    "                result[i][v] += base[i][j] * matrix[j][v]\n",
    "    base = result.copy()\n",
    "    result = [[0] * n for _ in range(n)]\n",
    "    power -= 1\n",
    "    \n",
    "for row in base:\n",
    "    print(*row)"
   ]
  }
 ],
 "metadata": {
  "kernelspec": {
   "display_name": "Python 3 (ipykernel)",
   "language": "python",
   "name": "python3"
  },
  "language_info": {
   "codemirror_mode": {
    "name": "ipython",
    "version": 3
   },
   "file_extension": ".py",
   "mimetype": "text/x-python",
   "name": "python",
   "nbconvert_exporter": "python",
   "pygments_lexer": "ipython3",
   "version": "3.8.8"
  }
 },
 "nbformat": 4,
 "nbformat_minor": 5
}
